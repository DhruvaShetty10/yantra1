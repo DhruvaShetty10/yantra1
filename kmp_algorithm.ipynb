{
  "nbformat": 4,
  "nbformat_minor": 0,
  "metadata": {
    "colab": {
      "provenance": [],
      "authorship_tag": "ABX9TyML5wkCP/NI2Hp8efsr5rf9",
      "include_colab_link": true
    },
    "kernelspec": {
      "name": "python3",
      "display_name": "Python 3"
    },
    "language_info": {
      "name": "python"
    }
  },
  "cells": [
    {
      "cell_type": "markdown",
      "metadata": {
        "id": "view-in-github",
        "colab_type": "text"
      },
      "source": [
        "<a href=\"https://colab.research.google.com/github/DhruvaShetty10/yantra1/blob/main/kmp_algorithm.ipynb\" target=\"_parent\"><img src=\"https://colab.research.google.com/assets/colab-badge.svg\" alt=\"Open In Colab\"/></a>"
      ]
    },
    {
      "cell_type": "code",
      "source": [
        "%%writefile kmp_algorithm.c\n",
        "#include <stdio.h>\n",
        "#include <string.h>\n",
        "\n",
        "void computeLPSArray(const char* pattern, int m, int* lps) {\n",
        "    int length = 0;\n",
        "    lps[0] = 0;\n",
        "\n",
        "    for (int i = 1; i < m; i++) {\n",
        "        while (length > 0 && pattern[i] != pattern[length]) {\n",
        "            length = lps[length - 1];\n",
        "        }\n",
        "        if (pattern[i] == pattern[length]) {\n",
        "            length++;\n",
        "        }\n",
        "        lps[i] = length;\n",
        "    }\n",
        "}\n",
        "\n",
        "void KMPSearch(const char* text, const char* pattern) {\n",
        "    int n = strlen(text);\n",
        "    int m = strlen(pattern);\n",
        "    int lps[m];\n",
        "\n",
        "    computeLPSArray(pattern, m, lps);\n",
        "\n",
        "    int i = 0, j = 0;\n",
        "    while (i < n) {\n",
        "        if (text[i] == pattern[j]) {\n",
        "            i++;\n",
        "            j++;\n",
        "        }\n",
        "\n",
        "        if (j == m) {\n",
        "            printf(\"Pattern found at index %d\\n\", i - j);\n",
        "            j = lps[j - 1];\n",
        "        } else if (i < n && text[i] != pattern[j]) {\n",
        "            if (j != 0) {\n",
        "                j = lps[j - 1];\n",
        "            } else {\n",
        "                i++;\n",
        "            }\n",
        "        }\n",
        "    }\n",
        "}\n",
        "\n",
        "int main() {\n",
        "    const char text[] = \"ABABDABACDABABCABAB\";\n",
        "    const char pattern[] = \"ABABCABAB\";\n",
        "    KMPSearch(text, pattern);\n",
        "    return 0;\n",
        "}\n"
      ],
      "metadata": {
        "colab": {
          "base_uri": "https://localhost:8080/"
        },
        "id": "4xzoXtPq5CWN",
        "outputId": "1a0c2af0-f8dd-4962-ece3-8a503c73060b"
      },
      "execution_count": 12,
      "outputs": [
        {
          "output_type": "stream",
          "name": "stdout",
          "text": [
            "Overwriting kmp_algorithm.c\n"
          ]
        }
      ]
    },
    {
      "cell_type": "code",
      "source": [
        "!gcc kmp_algorithm.c -o kmp_algorithm\n",
        "\n"
      ],
      "metadata": {
        "id": "MDAcfBLL9hUy"
      },
      "execution_count": 14,
      "outputs": []
    },
    {
      "cell_type": "code",
      "source": [
        "!time ./kmp_algorithm\n"
      ],
      "metadata": {
        "colab": {
          "base_uri": "https://localhost:8080/"
        },
        "id": "FLJBlqfu_p2-",
        "outputId": "65da63c9-7a07-4b25-88c4-aaf3507b4be9"
      },
      "execution_count": 15,
      "outputs": [
        {
          "output_type": "stream",
          "name": "stdout",
          "text": [
            "Pattern found at index 10\n",
            "\n",
            "real\t0m0.001s\n",
            "user\t0m0.000s\n",
            "sys\t0m0.001s\n"
          ]
        }
      ]
    }
  ]
}